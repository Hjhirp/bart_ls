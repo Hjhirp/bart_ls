{
 "cells": [
  {
   "cell_type": "code",
   "execution_count": 1,
   "metadata": {},
   "outputs": [
    {
     "name": "stderr",
     "output_type": "stream",
     "text": [
      "  0%|          | 1/256 [02:59<12:43:26, 179.63s/it]\n"
     ]
    },
    {
     "ename": "ValueError",
     "evalue": "Provided argument 'file_obj' does not appear to be a valid hickle file! (Unable to open file (unable to flock file, errno = 11, error message = 'Resource temporarily unavailable'))",
     "output_type": "error",
     "traceback": [
      "\u001b[0;31m---------------------------------------------------------------------------\u001b[0m",
      "\u001b[0;31mOSError\u001b[0m                                   Traceback (most recent call last)",
      "File \u001b[0;32m~/miniconda/envs/py39_pt111_cu114/lib/python3.9/site-packages/hickle/hickle.py:517\u001b[0m, in \u001b[0;36mload\u001b[0;34m(file_obj, path, safe)\u001b[0m\n\u001b[1;32m    <a href='file:///data/home/xwhan/miniconda/envs/py39_pt111_cu114/lib/python3.9/site-packages/hickle/hickle.py?line=515'>516</a>\u001b[0m \u001b[39mtry\u001b[39;00m:\n\u001b[0;32m--> <a href='file:///data/home/xwhan/miniconda/envs/py39_pt111_cu114/lib/python3.9/site-packages/hickle/hickle.py?line=516'>517</a>\u001b[0m     h5f, path, close_flag \u001b[39m=\u001b[39m file_opener(file_obj, path, \u001b[39m'\u001b[39;49m\u001b[39mr\u001b[39;49m\u001b[39m'\u001b[39;49m)\n\u001b[1;32m    <a href='file:///data/home/xwhan/miniconda/envs/py39_pt111_cu114/lib/python3.9/site-packages/hickle/hickle.py?line=517'>518</a>\u001b[0m     h_root_group \u001b[39m=\u001b[39m h5f\u001b[39m.\u001b[39mget(path)   \u001b[39m# Solely used by v4\u001b[39;00m\n",
      "File \u001b[0;32m~/miniconda/envs/py39_pt111_cu114/lib/python3.9/site-packages/hickle/hickle.py:111\u001b[0m, in \u001b[0;36mfile_opener\u001b[0;34m(f, path, mode)\u001b[0m\n\u001b[1;32m    <a href='file:///data/home/xwhan/miniconda/envs/py39_pt111_cu114/lib/python3.9/site-packages/hickle/hickle.py?line=109'>110</a>\u001b[0m     filename \u001b[39m=\u001b[39m f\n\u001b[0;32m--> <a href='file:///data/home/xwhan/miniconda/envs/py39_pt111_cu114/lib/python3.9/site-packages/hickle/hickle.py?line=110'>111</a>\u001b[0m     h5f \u001b[39m=\u001b[39m h5\u001b[39m.\u001b[39;49mFile(filename, mode)\n\u001b[1;32m    <a href='file:///data/home/xwhan/miniconda/envs/py39_pt111_cu114/lib/python3.9/site-packages/hickle/hickle.py?line=111'>112</a>\u001b[0m \u001b[39melif\u001b[39;00m \u001b[39misinstance\u001b[39m(f, h5\u001b[39m.\u001b[39m_hl\u001b[39m.\u001b[39mgroup\u001b[39m.\u001b[39mGroup):\n",
      "File \u001b[0;32m~/miniconda/envs/py39_pt111_cu114/lib/python3.9/site-packages/h5py/_hl/files.py:406\u001b[0m, in \u001b[0;36mFile.__init__\u001b[0;34m(self, name, mode, driver, libver, userblock_size, swmr, rdcc_nslots, rdcc_nbytes, rdcc_w0, track_order, **kwds)\u001b[0m\n\u001b[1;32m    <a href='file:///data/home/xwhan/miniconda/envs/py39_pt111_cu114/lib/python3.9/site-packages/h5py/_hl/files.py?line=404'>405</a>\u001b[0m     fapl \u001b[39m=\u001b[39m make_fapl(driver, libver, rdcc_nslots, rdcc_nbytes, rdcc_w0, \u001b[39m*\u001b[39m\u001b[39m*\u001b[39mkwds)\n\u001b[0;32m--> <a href='file:///data/home/xwhan/miniconda/envs/py39_pt111_cu114/lib/python3.9/site-packages/h5py/_hl/files.py?line=405'>406</a>\u001b[0m     fid \u001b[39m=\u001b[39m make_fid(name, mode, userblock_size,\n\u001b[1;32m    <a href='file:///data/home/xwhan/miniconda/envs/py39_pt111_cu114/lib/python3.9/site-packages/h5py/_hl/files.py?line=406'>407</a>\u001b[0m                    fapl, fcpl\u001b[39m=\u001b[39;49mmake_fcpl(track_order\u001b[39m=\u001b[39;49mtrack_order),\n\u001b[1;32m    <a href='file:///data/home/xwhan/miniconda/envs/py39_pt111_cu114/lib/python3.9/site-packages/h5py/_hl/files.py?line=407'>408</a>\u001b[0m                    swmr\u001b[39m=\u001b[39;49mswmr)\n\u001b[1;32m    <a href='file:///data/home/xwhan/miniconda/envs/py39_pt111_cu114/lib/python3.9/site-packages/h5py/_hl/files.py?line=409'>410</a>\u001b[0m \u001b[39mif\u001b[39;00m \u001b[39misinstance\u001b[39m(libver, \u001b[39mtuple\u001b[39m):\n",
      "File \u001b[0;32m~/miniconda/envs/py39_pt111_cu114/lib/python3.9/site-packages/h5py/_hl/files.py:173\u001b[0m, in \u001b[0;36mmake_fid\u001b[0;34m(name, mode, userblock_size, fapl, fcpl, swmr)\u001b[0m\n\u001b[1;32m    <a href='file:///data/home/xwhan/miniconda/envs/py39_pt111_cu114/lib/python3.9/site-packages/h5py/_hl/files.py?line=171'>172</a>\u001b[0m         flags \u001b[39m|\u001b[39m\u001b[39m=\u001b[39m h5f\u001b[39m.\u001b[39mACC_SWMR_READ\n\u001b[0;32m--> <a href='file:///data/home/xwhan/miniconda/envs/py39_pt111_cu114/lib/python3.9/site-packages/h5py/_hl/files.py?line=172'>173</a>\u001b[0m     fid \u001b[39m=\u001b[39m h5f\u001b[39m.\u001b[39;49mopen(name, flags, fapl\u001b[39m=\u001b[39;49mfapl)\n\u001b[1;32m    <a href='file:///data/home/xwhan/miniconda/envs/py39_pt111_cu114/lib/python3.9/site-packages/h5py/_hl/files.py?line=173'>174</a>\u001b[0m \u001b[39melif\u001b[39;00m mode \u001b[39m==\u001b[39m \u001b[39m'\u001b[39m\u001b[39mr+\u001b[39m\u001b[39m'\u001b[39m:\n",
      "File \u001b[0;32mh5py/_objects.pyx:54\u001b[0m, in \u001b[0;36mh5py._objects.with_phil.wrapper\u001b[0;34m()\u001b[0m\n",
      "File \u001b[0;32mh5py/_objects.pyx:55\u001b[0m, in \u001b[0;36mh5py._objects.with_phil.wrapper\u001b[0;34m()\u001b[0m\n",
      "File \u001b[0;32mh5py/h5f.pyx:88\u001b[0m, in \u001b[0;36mh5py.h5f.open\u001b[0;34m()\u001b[0m\n",
      "\u001b[0;31mOSError\u001b[0m: Unable to open file (unable to flock file, errno = 11, error message = 'Resource temporarily unavailable')",
      "\nDuring handling of the above exception, another exception occurred:\n",
      "\u001b[0;31mValueError\u001b[0m                                Traceback (most recent call last)",
      "\u001b[1;32m/data/home/xwhan/fairseq-py/notebooks/random.ipynb Cell 1'\u001b[0m in \u001b[0;36m<cell line: 8>\u001b[0;34m()\u001b[0m\n\u001b[1;32m      <a href='vscode-notebook-cell://ssh-remote%2B9b9f0231-9c23-4a74-afff-2e717c3130f2/data/home/xwhan/fairseq-py/notebooks/random.ipynb#ch0000001vscode-remote?line=7'>8</a>\u001b[0m \u001b[39mfor\u001b[39;00m dir_ \u001b[39min\u001b[39;00m tqdm(os\u001b[39m.\u001b[39mlistdir(cluster_dir)):\n\u001b[1;32m      <a href='vscode-notebook-cell://ssh-remote%2B9b9f0231-9c23-4a74-afff-2e717c3130f2/data/home/xwhan/fairseq-py/notebooks/random.ipynb#ch0000001vscode-remote?line=8'>9</a>\u001b[0m     \u001b[39massert\u001b[39;00m os\u001b[39m.\u001b[39mpath\u001b[39m.\u001b[39mexists(cluster_dir \u001b[39m+\u001b[39m \u001b[39mf\u001b[39m\u001b[39m'\u001b[39m\u001b[39m/\u001b[39m\u001b[39m{\u001b[39;00mdir_\u001b[39m}\u001b[39;00m\u001b[39m/knn.hkl\u001b[39m\u001b[39m'\u001b[39m)\n\u001b[0;32m---> <a href='vscode-notebook-cell://ssh-remote%2B9b9f0231-9c23-4a74-afff-2e717c3130f2/data/home/xwhan/fairseq-py/notebooks/random.ipynb#ch0000001vscode-remote?line=9'>10</a>\u001b[0m     knn\u001b[39m.\u001b[39mupdate(hkl\u001b[39m.\u001b[39;49mload(cluster_dir \u001b[39m+\u001b[39;49m \u001b[39mf\u001b[39;49m\u001b[39m'\u001b[39;49m\u001b[39m/\u001b[39;49m\u001b[39m{\u001b[39;49;00mdir_\u001b[39m}\u001b[39;49;00m\u001b[39m/knn.hkl\u001b[39;49m\u001b[39m'\u001b[39;49m))\n",
      "File \u001b[0;32m~/miniconda/envs/py39_pt111_cu114/lib/python3.9/site-packages/hickle/hickle.py:573\u001b[0m, in \u001b[0;36mload\u001b[0;34m(file_obj, path, safe)\u001b[0m\n\u001b[1;32m    <a href='file:///data/home/xwhan/miniconda/envs/py39_pt111_cu114/lib/python3.9/site-packages/hickle/hickle.py?line=570'>571</a>\u001b[0m \u001b[39m# If this fails, raise error and provide user with caught error message\u001b[39;00m\n\u001b[1;32m    <a href='file:///data/home/xwhan/miniconda/envs/py39_pt111_cu114/lib/python3.9/site-packages/hickle/hickle.py?line=571'>572</a>\u001b[0m \u001b[39mexcept\u001b[39;00m \u001b[39mException\u001b[39;00m \u001b[39mas\u001b[39;00m error:\n\u001b[0;32m--> <a href='file:///data/home/xwhan/miniconda/envs/py39_pt111_cu114/lib/python3.9/site-packages/hickle/hickle.py?line=572'>573</a>\u001b[0m     \u001b[39mraise\u001b[39;00m \u001b[39mValueError\u001b[39;00m(\u001b[39m\"\u001b[39m\u001b[39mProvided argument \u001b[39m\u001b[39m'\u001b[39m\u001b[39mfile_obj\u001b[39m\u001b[39m'\u001b[39m\u001b[39m does not appear to be a\u001b[39m\u001b[39m\"\u001b[39m\n\u001b[1;32m    <a href='file:///data/home/xwhan/miniconda/envs/py39_pt111_cu114/lib/python3.9/site-packages/hickle/hickle.py?line=573'>574</a>\u001b[0m                      \u001b[39m\"\u001b[39m\u001b[39m valid hickle file! (\u001b[39m\u001b[39m%s\u001b[39;00m\u001b[39m)\u001b[39m\u001b[39m\"\u001b[39m \u001b[39m%\u001b[39m (error))\n\u001b[1;32m    <a href='file:///data/home/xwhan/miniconda/envs/py39_pt111_cu114/lib/python3.9/site-packages/hickle/hickle.py?line=574'>575</a>\u001b[0m \u001b[39mfinally\u001b[39;00m:\n\u001b[1;32m    <a href='file:///data/home/xwhan/miniconda/envs/py39_pt111_cu114/lib/python3.9/site-packages/hickle/hickle.py?line=575'>576</a>\u001b[0m     \u001b[39m# Close the file if requested.\u001b[39;00m\n\u001b[1;32m    <a href='file:///data/home/xwhan/miniconda/envs/py39_pt111_cu114/lib/python3.9/site-packages/hickle/hickle.py?line=576'>577</a>\u001b[0m     \u001b[39m# Closing a file twice will not cause any problems\u001b[39;00m\n\u001b[1;32m    <a href='file:///data/home/xwhan/miniconda/envs/py39_pt111_cu114/lib/python3.9/site-packages/hickle/hickle.py?line=577'>578</a>\u001b[0m     \u001b[39mif\u001b[39;00m close_flag:\n",
      "\u001b[0;31mValueError\u001b[0m: Provided argument 'file_obj' does not appear to be a valid hickle file! (Unable to open file (unable to flock file, errno = 11, error message = 'Resource temporarily unavailable'))"
     ]
    }
   ],
   "source": [
    "import os\n",
    "import hickle as hkl\n",
    "from tqdm import tqdm\n",
    "\n",
    "cluster_dir = '/data/home/xwhan/data/long_c4/clusters'\n",
    "\n",
    "knn = {}\n",
    "for dir_ in tqdm(os.listdir(cluster_dir)):\n",
    "    assert os.path.exists(cluster_dir + f'/{dir_}/knn.hkl')\n",
    "    knn.update(hkl.load(cluster_dir + f'/{dir_}/knn.hkl'))\n",
    "\n",
    "\n",
    "\n",
    "knn.update(hkl.load(cluster_dir + f'/cluster_1/knn.hkl'))\n"
   ]
  },
  {
   "cell_type": "code",
   "execution_count": 1,
   "metadata": {},
   "outputs": [
    {
     "name": "stdout",
     "output_type": "stream",
     "text": [
      "tensor([3.0197e-02, 1.0569e-01, 1.8496e-01, 2.1579e-01, 1.8881e-01, 1.3217e-01,\n",
      "        7.7098e-02, 3.8549e-02, 1.6865e-02, 6.5587e-03, 2.2955e-03, 7.3040e-04,\n",
      "        2.1303e-04, 5.7355e-05, 1.4339e-05, 3.3457e-06, 7.3188e-07, 1.5068e-07,\n",
      "        2.9299e-08])\n"
     ]
    }
   ],
   "source": [
    "import math\n",
    "import torch\n",
    "\n",
    "_lambda = 3.5\n",
    "\n",
    "lambda_to_the_k = 1\n",
    "e_to_the_minus_lambda = math.exp(-_lambda)\n",
    "k_factorial = 1\n",
    "ps = []\n",
    "for k in range(0, 128):\n",
    "    ps.append(e_to_the_minus_lambda * lambda_to_the_k / k_factorial)\n",
    "    lambda_to_the_k *= _lambda\n",
    "    k_factorial *= k + 1\n",
    "    if ps[-1] < 0.0000001:\n",
    "        break\n",
    "ps = torch.FloatTensor(ps)\n",
    "print(ps)\n"
   ]
  },
  {
   "cell_type": "code",
   "execution_count": 11,
   "metadata": {},
   "outputs": [
    {
     "data": {
      "text/plain": [
       "array([False, False, False, False, False, False, False, False, False,\n",
       "       False, False, False, False, False, False, False, False,  True,\n",
       "        True,  True,  True,  True,  True, False, False, False, False,\n",
       "       False,  True,  True,  True,  True, False,  True, False, False,\n",
       "       False, False, False, False, False, False, False, False, False,\n",
       "       False, False, False, False, False, False, False, False, False,\n",
       "       False, False, False, False, False, False, False, False, False,\n",
       "       False, False, False, False, False, False, False, False, False,\n",
       "       False, False,  True,  True, False, False, False, False, False,\n",
       "       False, False, False, False, False, False, False, False, False,\n",
       "       False, False, False, False, False, False, False, False,  True,\n",
       "        True])"
      ]
     },
     "execution_count": 11,
     "metadata": {},
     "output_type": "execute_result"
    }
   ],
   "source": [
    "import numpy as np\n",
    "\n",
    "def random_spans_noise_mask(length, noise_density=0.15, mean_noise_span_length=3):\n",
    "    orig_length = length\n",
    "\n",
    "    num_noise_tokens = int(np.round(length * noise_density))\n",
    "    # avoid degeneracy by ensuring positive numbers of noise and nonnoise tokens.\n",
    "    num_noise_tokens = min(max(num_noise_tokens, 1), length - 1)\n",
    "    num_noise_spans = int(np.round(num_noise_tokens / mean_noise_span_length))\n",
    "\n",
    "    # avoid degeneracy by ensuring positive number of noise spans\n",
    "    num_noise_spans = max(num_noise_spans, 1)\n",
    "    num_nonnoise_tokens = length - num_noise_tokens\n",
    "\n",
    "    # pick the lengths of the noise spans and the non-noise spans\n",
    "    def _random_segmentation(num_items, num_segments):\n",
    "        \"\"\"Partition a sequence of items randomly into non-empty segments.\n",
    "        Args:\n",
    "            num_items: an integer scalar > 0\n",
    "            num_segments: an integer scalar in [1, num_items]\n",
    "        Returns:\n",
    "            a Tensor with shape [num_segments] containing positive integers that add\n",
    "            up to num_items\n",
    "        \"\"\"\n",
    "        mask_indices = np.arange(num_items - 1) < (num_segments - 1)\n",
    "        np.random.shuffle(mask_indices)\n",
    "        first_in_segment = np.pad(mask_indices, [[1, 0]])\n",
    "        segment_id = np.cumsum(first_in_segment)\n",
    "        # count length of sub segments assuming that list is sorted\n",
    "        _, segment_length = np.unique(segment_id, return_counts=True)\n",
    "        return segment_length\n",
    "\n",
    "    noise_span_lengths = _random_segmentation(num_noise_tokens, num_noise_spans)\n",
    "    nonnoise_span_lengths = _random_segmentation(num_nonnoise_tokens, num_noise_spans)\n",
    "\n",
    "    interleaved_span_lengths = np.reshape(\n",
    "        np.stack([nonnoise_span_lengths, noise_span_lengths], axis=1), [num_noise_spans * 2]\n",
    "    )\n",
    "\n",
    "\n",
    "\n",
    "    span_starts = np.cumsum(interleaved_span_lengths)[:-1]\n",
    "    span_start_indicator = np.zeros((length,), dtype=np.int8)\n",
    "    span_start_indicator[span_starts] = True\n",
    "    span_num = np.cumsum(span_start_indicator)\n",
    "    is_noise = np.equal(span_num % 2, 1)\n",
    "\n",
    "    # print(span_starts)\n",
    "    # print(noise_span_lengths)\n",
    "    # print(len(span_starts), len(noise_span_lengths))\n",
    "\n",
    "    return is_noise[:orig_length]\n",
    "\n",
    "\n",
    "random_spans_noise_mask(100)"
   ]
  },
  {
   "cell_type": "code",
   "execution_count": 26,
   "metadata": {},
   "outputs": [
    {
     "name": "stdout",
     "output_type": "stream",
     "text": [
      "tensor([   0,    0,    0,    0,    0, 1000,   -1,   -1,   -1,   -1,   -1,    0,\n",
      "           0,    0,    0,    0,    0,    0,    0,    0,    0,    0,    0,    0,\n",
      "           0,    0,    0, 1001,   -1,   -1,    0,    0, 1002,   -1,   -1,    0,\n",
      "           0,    0,    0,    0,    0,    0,    0,    0,    0,    0,    0,    0,\n",
      "           0,    0,    0,    0,    0,    0,    0,    0,    0,    0,    0,    0,\n",
      "           0,    0,    0,    0,    0,    0,    0,    0,    0,    0,    0,    0,\n",
      "           0,    0,    0,    0,    0,    0,    0,    0,    0,    0,    0,    0,\n",
      "           0,    0,    0,    0,    0,    0,    0,    0,    0,    0,    0, 1003,\n",
      "          -1,    0,    0, 1004])\n",
      "tensor([ 0,  1,  2,  3,  4,  5,  6,  7,  8,  9, 10, 11, 12, 13, 14, 15, 16, 17,\n",
      "        18, 19, 20, 21, 22, 23, 24, 25, 26, 27, 28, 29, 30, 31, 32, 33, 34, 35,\n",
      "        36, 37, 38, 39, 40, 41, 42, 43, 44, 45, 46, 47, 48, 49, 50, 51, 52, 53,\n",
      "        54, 55, 56, 57, 58, 59, 60, 61, 62, 63, 64, 65, 66, 67, 68, 69, 70, 71,\n",
      "        72, 73, 74, 75, 76, 77, 78, 79, 80, 81, 82, 83, 84, 85, 86, 87, 88, 89,\n",
      "        90, 91, 92, 93, 94, 95, 96, 97, 98, 99])\n",
      "tensor([   1,    2,    3,    4, 1000,   11,   12,   13,   14,   15,   16,   17,\n",
      "          18,   19,   20,   21,   22,   23,   24,   25,   26, 1001,   30,   31,\n",
      "        1002,   35,   36,   37,   38,   39,   40,   41,   42,   43,   44,   45,\n",
      "          46,   47,   48,   49,   50,   51,   52,   53,   54,   55,   56,   57,\n",
      "          58,   59,   60,   61,   62,   63,   64,   65,   66,   67,   68,   69,\n",
      "          70,   71,   72,   73,   74,   75,   76,   77,   78,   79,   80,   81,\n",
      "          82,   83,   84,   85,   86,   87,   88,   89,   90,   91,   92,   93,\n",
      "          94, 1003,   97,   98, 1004])\n"
     ]
    }
   ],
   "source": [
    "mask_indices = random_spans_noise_mask(100)\n",
    "def create_sentinel_ids(mask_indices):\n",
    "    \"\"\"\n",
    "    Sentinel ids creation given the indices that should be masked.\n",
    "    The start indices of each mask are replaced by the sentinel ids in increasing\n",
    "    order. Consecutive mask indices to be deleted are replaced with `-1`.\n",
    "    \"\"\"\n",
    "    vocab_size = 1000\n",
    "\n",
    "    start_indices = mask_indices - np.roll(mask_indices, 1, axis=-1) * mask_indices\n",
    "    start_indices[0] = mask_indices[0]\n",
    "\n",
    "    sentinel_ids = np.where(start_indices != 0, np.cumsum(start_indices, axis=-1), start_indices)\n",
    "    \n",
    "    sentinel_ids = np.where(sentinel_ids != 0, (sentinel_ids + vocab_size - 1), 0)\n",
    "    sentinel_ids -= mask_indices - start_indices\n",
    "\n",
    "    return sentinel_ids\n",
    "\n",
    "def filter_input_ids(input_ids, sentinel_ids):\n",
    "    \"\"\"\n",
    "    Puts sentinel mask on `input_ids` and fuse consecutive mask tokens into a single mask token by deleting.\n",
    "    This will reduce the sequence length from `expanded_inputs_length` to `input_length`.\n",
    "    \"\"\"\n",
    "    sentinel_ids = torch.tensor(sentinel_ids)\n",
    "    print(sentinel_ids)\n",
    "    print(input_ids)\n",
    "    input_ids_full = torch.where(sentinel_ids != 0, sentinel_ids, input_ids)\n",
    "    input_ids = input_ids_full[input_ids_full > 0]\n",
    "    # input_ids = np.concatenate(\n",
    "    #     [input_ids, np.full((batch_size, 1), self.tokenizer.eos_token_id, dtype=np.int32)], axis=-1\n",
    "    # )\n",
    "    return input_ids\n",
    "\n",
    "input_ids = np.arange(100, dtype=np.int32)\n",
    "sentinel_ids = create_sentinel_ids(mask_indices.astype(np.int8))\n",
    "\n",
    "labels_mask = ~mask_indices\n",
    "labels_sentinel = create_sentinel_ids(labels_mask.astype(np.int8))\n",
    "\n",
    "input_ids = torch.tensor(input_ids, dtype=torch.long)\n",
    "\n",
    "# print(sentinel_ids)\n",
    "# print(input_ids, len(input_ids))\n",
    "print(filter_input_ids(input_ids, sentinel_ids))\n",
    "# print(filter_input_ids(input_ids, labels_sentinel))\n",
    "\n",
    "# print(sentinel_ids)"
   ]
  },
  {
   "cell_type": "code",
   "execution_count": 3,
   "metadata": {},
   "outputs": [
    {
     "name": "stdout",
     "output_type": "stream",
     "text": [
      "(8576, 472)\n"
     ]
    }
   ],
   "source": [
    "def compute_input_and_target_lengths(inputs_length, noise_density, mean_noise_span_length):\n",
    "    \"\"\"This function is copy of `random_spans_helper <https://github.com/google-research/text-to-text-transfer-transformer/blob/84f8bcc14b5f2c03de51bd3587609ba8f6bbd1cd/t5/data/preprocessors.py#L2466>`__ .\n",
    "\n",
    "    @xwhan In order to fully train the position embeddings, the sample length before noising should be larger than max_source_positions\n",
    "    \"\"\"\n",
    "\n",
    "    def _tokens_length_to_inputs_length_targets_length(tokens_length):\n",
    "        num_noise_tokens = int(round(tokens_length * noise_density))\n",
    "        num_nonnoise_tokens = tokens_length - num_noise_tokens\n",
    "        num_noise_spans = int(round(num_noise_tokens / mean_noise_span_length))\n",
    "        # inputs contain all nonnoise tokens, sentinels for all noise spans\n",
    "        # and one EOS token.\n",
    "        _input_length = num_nonnoise_tokens + num_noise_spans\n",
    "        _output_length = num_noise_tokens + num_noise_spans\n",
    "        return _input_length, _output_length\n",
    "\n",
    "    tokens_length = inputs_length\n",
    "\n",
    "    while _tokens_length_to_inputs_length_targets_length(tokens_length + 1)[0] <= inputs_length:\n",
    "        tokens_length += 1\n",
    "\n",
    "    inputs_length, targets_length = _tokens_length_to_inputs_length_targets_length(tokens_length)\n",
    "\n",
    "    # minor hack to get the targets length to be equal to inputs length\n",
    "    # which is more likely to have been set to a nice round number.\n",
    "    if noise_density == 0.5 and targets_length > inputs_length:\n",
    "        tokens_length -= 1\n",
    "        targets_length -= 1\n",
    "    return tokens_length, targets_length\n",
    "\n",
    "\n",
    "print(compute_input_and_target_lengths(8192 - 2, 0.05, 10))"
   ]
  },
  {
   "cell_type": "code",
   "execution_count": 7,
   "metadata": {},
   "outputs": [
    {
     "data": {
      "text/plain": [
       "<matplotlib.legend.Legend at 0x7f6f64d55250>"
      ]
     },
     "execution_count": 7,
     "metadata": {},
     "output_type": "execute_result"
    },
    {
     "data": {
      "image/png": "[encoded data removed]",
      "text/plain": [
       "<Figure size 432x288 with 1 Axes>"
      ]
     },
     "metadata": {},
     "output_type": "display_data"
    }
   ],
   "source": [
    "import matplotlib.pyplot as plt\n",
    "import numpy as np\n",
    "from matplotlib.backends.backend_pdf import PdfPages\n",
    "import seaborn as sns\n",
    "\n",
    "block = [3.37, 3.53, 3.55, 3.57]\n",
    "performer = [3.88, 4.73, 6.13, 9.27]\n",
    "linformer = [5.56, 6.66, 8.59, 9.28]\n",
    "length = [512, 1024, 2048, 4096]\n",
    "\n",
    "sns.set_style(\"whitegrid\", {'legend.frameon':True})\n",
    "plt.ylabel(\"BPC\")\n",
    "plt.xlabel(\"Sequence Length\")\n",
    "plt.plot(length, linformer, label='Linformer', marker='o')\n",
    "plt.plot(length, performer, label='Performer', marker='^')\n",
    "plt.plot(length, block, label='Blockwise LW', marker='*')\n",
    "plt.legend()\n",
    "\n",
    "plt.savefig('addition.pdf')"
   ]
  },
  {
   "cell_type": "code",
   "execution_count": 2,
   "metadata": {},
   "outputs": [
    {
     "name": "stdout",
     "output_type": "stream",
     "text": [
      "False\n"
     ]
    }
   ],
   "source": [
    "import math\n",
    "from typing import List\n",
    "\n",
    "import numpy as np\n",
    "import torch\n",
    "import xformers.components.attention.attention_patterns as AP\n",
    "from xformers.triton.utils import gpu_capabilities_older_than_70\n",
    "\n",
    "print(gpu_capabilities_older_than_70())\n",
    "\n",
    "# SEQ = 20\n",
    "# BLOCK_SIZE = 4\n",
    "# blocks = SEQ // BLOCK_SIZE\n",
    "# HEADS = 1\n",
    "# causal_layout = torch.tril(torch.ones([HEADS, blocks, blocks]))\n",
    "# causal_mask = torch.tril(torch.ones((SEQ, SEQ)))\n",
    "# print(causal_layout)\n",
    "\n"
   ]
  },
  {
   "cell_type": "code",
   "execution_count": 11,
   "metadata": {},
   "outputs": [
    {
     "name": "stdout",
     "output_type": "stream",
     "text": [
      "13898.391297028866\n"
     ]
    }
   ],
   "source": [
    "fix_rate = 0.02\n",
    "risk_rate = 0.05\n",
    "\n",
    "growth_rate_near = 0.15\n",
    "growth_rate_long = 0.03\n",
    "\n",
    "current_cash = 428 # millions\n",
    "\n",
    "years = 3 # growth years\n",
    "\n",
    "value = 0\n",
    "for year in range(1, years + 1):\n",
    "    value += current_cash * (1 + growth_rate_near) ** year / (1 + fix_rate + risk_rate) ** year\n",
    "\n",
    "value += (current_cash * (1 + growth_rate_near) ** year * (1 + growth_rate_long) / (fix_rate + risk_rate - growth_rate_long)) / (1 + fix_rate + risk_rate) ** years\n",
    "\n",
    "print(value)"
   ]
  },
  {
   "cell_type": "code",
   "execution_count": 8,
   "metadata": {},
   "outputs": [
    {
     "data": {
      "text/plain": [
       "1.1348958704923795"
      ]
     },
     "execution_count": 8,
     "metadata": {},
     "output_type": "execute_result"
    }
   ],
   "source": [
    "(428 / 258) ** (1 / 4)\n"
   ]
  }
 ],
 "metadata": {
  "interpreter": {
   "hash": "e1a53722623f1afda8eca494f8527849f03f244efaf2e6359810ca97fac35fa9"
  },
  "kernelspec": {
   "display_name": "Python 3.9.7 ('py39_pt111_cu114')",
   "language": "python",
   "name": "python3"
  },
  "language_info": {
   "codemirror_mode": {
    "name": "ipython",
    "version": 3
   },
   "file_extension": ".py",
   "mimetype": "text/x-python",
   "name": "python",
   "nbconvert_exporter": "python",
   "pygments_lexer": "ipython3",
   "version": "3.9.7"
  },
  "orig_nbformat": 4
 },
 "nbformat": 4,
 "nbformat_minor": 2
}
