{
 "cells": [
  {
   "cell_type": "code",
   "execution_count": 1,
   "metadata": {},
   "outputs": [],
   "source": [
    "import json\n",
    "\n",
    "test_path = '/fsx/xwhan/data/qasper/qasper-test-v0.3.json'\n",
    "dev_path = '/fsx/xwhan/data/qasper/qasper-dev-v0.3.json'\n",
    "\n",
    "test = json.load(open(test_path))\n",
    "dev = json.load(open(dev_path))"
   ]
  },
  {
   "cell_type": "code",
   "execution_count": 2,
   "metadata": {},
   "outputs": [],
   "source": [
    "questions, inputs, answers = [], [], []\n",
    "for k, item in test.items():\n",
    "    full_text = item['full_text']\n",
    "    texts = []\n",
    "    for sec in full_text:\n",
    "        if sec['section_name']:\n",
    "            texts.append(sec['section_name'])\n",
    "        texts.extend(sec['paragraphs'])\n",
    "    try:\n",
    "        full_doc = ' '.join(texts).replace('\\n', ' ')\n",
    "    except:\n",
    "        print(full_text)\n",
    "        assert False\n",
    "    for qas in item['qas']:\n",
    "        question = qas['question']\n",
    "        for answer in qas['answers']:\n",
    "            ans = answer['answer']\n",
    "            questions.append(question)\n",
    "            inputs.append(full_doc)\n",
    "            if ans['yes_no'] == True:\n",
    "                answers.append(\"Yes\")\n",
    "            elif ans['yes_no'] == False:\n",
    "                answers.append(\"No\")\n",
    "            elif ans['unanswerable']:\n",
    "                answers.append(\"Unanswerable\")\n",
    "            elif len(ans['extractive_spans']) > 0:\n",
    "                answers.append(\", \".join(ans['extractive_spans']))\n",
    "            else:\n",
    "                assert len(ans['free_form_answer']) > 0, ans\n",
    "                answers.append(ans['free_form_answer'])\n",
    "            answers[-1] = answers[-1].replace('\\n', ' ')\n",
    "\n"
   ]
  },
  {
   "cell_type": "code",
   "execution_count": 4,
   "metadata": {},
   "outputs": [
    {
     "name": "stdout",
     "output_type": "stream",
     "text": [
      "3554 3554 3554\n"
     ]
    }
   ],
   "source": [
    "\n",
    "print(len(questions), len(inputs), len(answers))\n",
    "\n",
    "with open('/fsx/xwhan/data/qasper/test.query', 'w') as g:\n",
    "    for q in questions:\n",
    "        g.write(q.strip() + '\\n')\n",
    "\n",
    "with open('/fsx/xwhan/data/qasper/test.source', 'w') as g:\n",
    "    for doc in inputs:\n",
    "        g.write(doc.strip() + '\\n')\n",
    "\n",
    "with open('/fsx/xwhan/data/qasper/test.target', 'w') as g:\n",
    "    for ans in answers:\n",
    "        g.write(ans.strip() + '\\n')"
   ]
  }
 ],
 "metadata": {
  "interpreter": {
   "hash": "e1a53722623f1afda8eca494f8527849f03f244efaf2e6359810ca97fac35fa9"
  },
  "kernelspec": {
   "display_name": "Python 3.9.7 ('py39_pt111_cu114')",
   "language": "python",
   "name": "python3"
  },
  "language_info": {
   "codemirror_mode": {
    "name": "ipython",
    "version": 3
   },
   "file_extension": ".py",
   "mimetype": "text/x-python",
   "name": "python",
   "nbconvert_exporter": "python",
   "pygments_lexer": "ipython3",
   "version": "3.9.7"
  },
  "orig_nbformat": 4
 },
 "nbformat": 4,
 "nbformat_minor": 2
}
